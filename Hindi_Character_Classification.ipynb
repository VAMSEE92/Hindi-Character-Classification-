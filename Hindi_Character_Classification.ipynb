{
  "nbformat": 4,
  "nbformat_minor": 0,
  "metadata": {
    "colab": {
      "name": "Hindi Character Classification.ipynb",
      "provenance": [],
      "machine_shape": "hm"
    },
    "kernelspec": {
      "name": "python3",
      "display_name": "Python 3"
    },
    "language_info": {
      "name": "python"
    },
    "accelerator": "GPU"
  },
  "cells": [
    {
      "cell_type": "code",
      "metadata": {
        "colab": {
          "base_uri": "https://localhost:8080/"
        },
        "id": "0LGYhkZdlDtK",
        "outputId": "45c3a7f8-1fe1-4163-ef7f-0fb2635ad934"
      },
      "source": [
        "from google.colab import drive\n",
        "drive.mount('/content/drive')"
      ],
      "execution_count": null,
      "outputs": [
        {
          "output_type": "stream",
          "name": "stdout",
          "text": [
            "Mounted at /content/drive\n"
          ]
        }
      ]
    },
    {
      "cell_type": "code",
      "metadata": {
        "colab": {
          "base_uri": "https://localhost:8080/",
          "height": 35
        },
        "id": "rZxJiVZJnNdw",
        "outputId": "79dcf256-5b97-45d2-c456-b008d0965b71"
      },
      "source": [
        "%tensorflow_version 2.x\n",
        "import tensorflow\n",
        "tensorflow.__version__"
      ],
      "execution_count": null,
      "outputs": [
        {
          "output_type": "execute_result",
          "data": {
            "application/vnd.google.colaboratory.intrinsic+json": {
              "type": "string"
            },
            "text/plain": [
              "'2.6.0'"
            ]
          },
          "metadata": {},
          "execution_count": 2
        }
      ]
    },
    {
      "cell_type": "code",
      "metadata": {
        "id": "rG36_RZe8Rde"
      },
      "source": [
        "from tensorflow.keras.layers import Dense,Flatten,Dropout,Conv2D,MaxPooling2D\n",
        "from tensorflow.keras.preprocessing.image import img_to_array,load_img\n",
        "from tensorflow.keras.callbacks import ModelCheckpoint\n",
        "from sklearn.model_selection import train_test_split\n",
        "from tensorflow.keras.models import Sequential\n",
        "from PIL import Image as im\n",
        "import matplotlib.pyplot as plt\n",
        "import numpy as np\n",
        "import os"
      ],
      "execution_count": null,
      "outputs": []
    },
    {
      "cell_type": "code",
      "metadata": {
        "id": "XdS0o2BEnZpX"
      },
      "source": [
        "path='/content/drive/My Drive/Hackathons/'"
      ],
      "execution_count": null,
      "outputs": []
    },
    {
      "cell_type": "code",
      "metadata": {
        "id": "fIANG0fVlD0-"
      },
      "source": [
        "data=np.load(path+'preprocessed_data/data.npy')\n",
        "target=np.load(path+'preprocessed_data/ulable.npy')"
      ],
      "execution_count": null,
      "outputs": []
    },
    {
      "cell_type": "code",
      "metadata": {
        "id": "o3SFpWxOlD32"
      },
      "source": [
        "model=Sequential()\n",
        "model.add(Conv2D(filters=32,kernel_size=3,activation='relu',input_shape=data.shape[1:]))\n",
        "model.add(Conv2D(filters=32,kernel_size=3,activation='relu'))\n",
        "model.add(MaxPooling2D(pool_size=(2,2)))\n",
        "model.add(Dropout(0.2))\n",
        "model.add(Flatten())\n",
        "model.add(Dense(128,activation='relu'))\n",
        "model.add(Dense(2,activation='sigmoid'))"
      ],
      "execution_count": null,
      "outputs": []
    },
    {
      "cell_type": "code",
      "metadata": {
        "colab": {
          "base_uri": "https://localhost:8080/"
        },
        "id": "eZzy_ShU8a0j",
        "outputId": "509902e1-cd49-40f6-8044-cb140197dd76"
      },
      "source": [
        "model.summary()"
      ],
      "execution_count": null,
      "outputs": [
        {
          "output_type": "stream",
          "name": "stdout",
          "text": [
            "Model: \"sequential\"\n",
            "_________________________________________________________________\n",
            "Layer (type)                 Output Shape              Param #   \n",
            "=================================================================\n",
            "conv2d (Conv2D)              (None, 62, 62, 32)        896       \n",
            "_________________________________________________________________\n",
            "conv2d_1 (Conv2D)            (None, 60, 60, 32)        9248      \n",
            "_________________________________________________________________\n",
            "max_pooling2d (MaxPooling2D) (None, 30, 30, 32)        0         \n",
            "_________________________________________________________________\n",
            "dropout (Dropout)            (None, 30, 30, 32)        0         \n",
            "_________________________________________________________________\n",
            "flatten (Flatten)            (None, 28800)             0         \n",
            "_________________________________________________________________\n",
            "dense (Dense)                (None, 128)               3686528   \n",
            "_________________________________________________________________\n",
            "dense_1 (Dense)              (None, 2)                 258       \n",
            "=================================================================\n",
            "Total params: 3,696,930\n",
            "Trainable params: 3,696,930\n",
            "Non-trainable params: 0\n",
            "_________________________________________________________________\n"
          ]
        }
      ]
    },
    {
      "cell_type": "code",
      "metadata": {
        "id": "kMde4E158a3Z"
      },
      "source": [
        "X_train,X_test,y_train,y_test=train_test_split(data,target,test_size=0.25)"
      ],
      "execution_count": null,
      "outputs": []
    },
    {
      "cell_type": "code",
      "metadata": {
        "colab": {
          "base_uri": "https://localhost:8080/"
        },
        "id": "9OXDhlId84Rv",
        "outputId": "a5cc8c01-3ba3-48d2-dbde-d6a0c246981e"
      },
      "source": [
        "print(X_train.shape)\n",
        "print(y_train.shape)\n",
        "print(X_test.shape)\n",
        "print(y_test.shape)"
      ],
      "execution_count": null,
      "outputs": [
        {
          "output_type": "stream",
          "name": "stdout",
          "text": [
            "(4406, 64, 64, 3)\n",
            "(4406, 2)\n",
            "(1469, 64, 64, 3)\n",
            "(1469, 2)\n"
          ]
        }
      ]
    },
    {
      "cell_type": "code",
      "metadata": {
        "id": "HTP3QK3O9O16"
      },
      "source": [
        "model.compile(loss='binary_crossentropy',metrics=['accuracy'],optimizer='adam')"
      ],
      "execution_count": null,
      "outputs": []
    },
    {
      "cell_type": "code",
      "metadata": {
        "colab": {
          "base_uri": "https://localhost:8080/"
        },
        "id": "Lbkf5cQ49O4w",
        "outputId": "8f89fa3c-1081-45a4-ffaf-574c833ce473"
      },
      "source": [
        "history=model.fit(x=X_train,y=y_train,batch_size=100,epochs=250,validation_data=(X_test,y_test))"
      ],
      "execution_count": null,
      "outputs": [
        {
          "output_type": "stream",
          "name": "stdout",
          "text": [
            "Epoch 1/250\n",
            "45/45 [==============================] - 17s 27ms/step - loss: 0.5515 - accuracy: 0.7476 - val_loss: 0.5103 - val_accuracy: 0.7590\n",
            "Epoch 2/250\n",
            "45/45 [==============================] - 1s 19ms/step - loss: 0.3644 - accuracy: 0.8459 - val_loss: 0.2992 - val_accuracy: 0.8918\n",
            "Epoch 3/250\n",
            "45/45 [==============================] - 1s 19ms/step - loss: 0.2618 - accuracy: 0.9094 - val_loss: 0.2241 - val_accuracy: 0.9251\n",
            "Epoch 4/250\n",
            "45/45 [==============================] - 1s 19ms/step - loss: 0.1862 - accuracy: 0.9365 - val_loss: 0.2035 - val_accuracy: 0.9306\n",
            "Epoch 5/250\n",
            "45/45 [==============================] - 1s 19ms/step - loss: 0.1776 - accuracy: 0.9405 - val_loss: 0.1678 - val_accuracy: 0.9387\n",
            "Epoch 6/250\n",
            "45/45 [==============================] - 1s 19ms/step - loss: 0.1238 - accuracy: 0.9564 - val_loss: 0.1473 - val_accuracy: 0.9462\n",
            "Epoch 7/250\n",
            "45/45 [==============================] - 1s 19ms/step - loss: 0.1173 - accuracy: 0.9598 - val_loss: 0.1496 - val_accuracy: 0.9421\n",
            "Epoch 8/250\n",
            "45/45 [==============================] - 1s 19ms/step - loss: 0.1266 - accuracy: 0.9576 - val_loss: 0.1444 - val_accuracy: 0.9564\n",
            "Epoch 9/250\n",
            "45/45 [==============================] - 1s 19ms/step - loss: 0.0940 - accuracy: 0.9669 - val_loss: 0.1481 - val_accuracy: 0.9483\n",
            "Epoch 10/250\n",
            "45/45 [==============================] - 1s 19ms/step - loss: 0.0704 - accuracy: 0.9755 - val_loss: 0.1381 - val_accuracy: 0.9551\n",
            "Epoch 11/250\n",
            "45/45 [==============================] - 1s 19ms/step - loss: 0.0572 - accuracy: 0.9793 - val_loss: 0.1680 - val_accuracy: 0.9544\n",
            "Epoch 12/250\n",
            "45/45 [==============================] - 1s 19ms/step - loss: 0.0492 - accuracy: 0.9837 - val_loss: 0.2064 - val_accuracy: 0.9551\n",
            "Epoch 13/250\n",
            "45/45 [==============================] - 1s 19ms/step - loss: 0.0614 - accuracy: 0.9825 - val_loss: 0.1503 - val_accuracy: 0.9632\n",
            "Epoch 14/250\n",
            "45/45 [==============================] - 1s 19ms/step - loss: 0.0591 - accuracy: 0.9830 - val_loss: 0.1420 - val_accuracy: 0.9646\n",
            "Epoch 15/250\n",
            "45/45 [==============================] - 1s 19ms/step - loss: 0.0348 - accuracy: 0.9896 - val_loss: 0.1425 - val_accuracy: 0.9673\n",
            "Epoch 16/250\n",
            "45/45 [==============================] - 1s 19ms/step - loss: 0.0226 - accuracy: 0.9932 - val_loss: 0.1560 - val_accuracy: 0.9687\n",
            "Epoch 17/250\n",
            "45/45 [==============================] - 1s 19ms/step - loss: 0.0211 - accuracy: 0.9955 - val_loss: 0.1958 - val_accuracy: 0.9619\n",
            "Epoch 18/250\n",
            "45/45 [==============================] - 1s 19ms/step - loss: 0.0150 - accuracy: 0.9966 - val_loss: 0.1990 - val_accuracy: 0.9639\n",
            "Epoch 19/250\n",
            "45/45 [==============================] - 1s 19ms/step - loss: 0.0142 - accuracy: 0.9964 - val_loss: 0.1946 - val_accuracy: 0.9639\n",
            "Epoch 20/250\n",
            "45/45 [==============================] - 1s 19ms/step - loss: 0.0159 - accuracy: 0.9970 - val_loss: 0.1830 - val_accuracy: 0.9666\n",
            "Epoch 21/250\n",
            "45/45 [==============================] - 1s 19ms/step - loss: 0.0214 - accuracy: 0.9932 - val_loss: 0.1780 - val_accuracy: 0.9653\n",
            "Epoch 22/250\n",
            "45/45 [==============================] - 1s 19ms/step - loss: 0.0109 - accuracy: 0.9975 - val_loss: 0.2261 - val_accuracy: 0.9619\n",
            "Epoch 23/250\n",
            "45/45 [==============================] - 1s 19ms/step - loss: 0.0174 - accuracy: 0.9955 - val_loss: 0.1529 - val_accuracy: 0.9673\n",
            "Epoch 24/250\n",
            "45/45 [==============================] - 1s 19ms/step - loss: 0.0176 - accuracy: 0.9955 - val_loss: 0.1933 - val_accuracy: 0.9632\n",
            "Epoch 25/250\n",
            "45/45 [==============================] - 1s 19ms/step - loss: 0.0167 - accuracy: 0.9950 - val_loss: 0.1969 - val_accuracy: 0.9660\n",
            "Epoch 26/250\n",
            "45/45 [==============================] - 1s 19ms/step - loss: 0.0126 - accuracy: 0.9977 - val_loss: 0.2361 - val_accuracy: 0.9585\n",
            "Epoch 27/250\n",
            "45/45 [==============================] - 1s 19ms/step - loss: 0.0307 - accuracy: 0.9921 - val_loss: 0.1792 - val_accuracy: 0.9694\n",
            "Epoch 28/250\n",
            "45/45 [==============================] - 1s 19ms/step - loss: 0.0079 - accuracy: 0.9982 - val_loss: 0.1629 - val_accuracy: 0.9653\n",
            "Epoch 29/250\n",
            "45/45 [==============================] - 1s 19ms/step - loss: 0.0104 - accuracy: 0.9977 - val_loss: 0.2107 - val_accuracy: 0.9700\n",
            "Epoch 30/250\n",
            "45/45 [==============================] - 1s 19ms/step - loss: 0.0180 - accuracy: 0.9957 - val_loss: 0.2189 - val_accuracy: 0.9680\n",
            "Epoch 31/250\n",
            "45/45 [==============================] - 1s 19ms/step - loss: 0.0042 - accuracy: 0.9998 - val_loss: 0.2368 - val_accuracy: 0.9680\n",
            "Epoch 32/250\n",
            "45/45 [==============================] - 1s 19ms/step - loss: 0.0061 - accuracy: 0.9986 - val_loss: 0.2459 - val_accuracy: 0.9660\n",
            "Epoch 33/250\n",
            "45/45 [==============================] - 1s 19ms/step - loss: 0.0045 - accuracy: 0.9998 - val_loss: 0.2414 - val_accuracy: 0.9653\n",
            "Epoch 34/250\n",
            "45/45 [==============================] - 1s 19ms/step - loss: 0.0013 - accuracy: 1.0000 - val_loss: 0.2426 - val_accuracy: 0.9673\n",
            "Epoch 35/250\n",
            "45/45 [==============================] - 1s 19ms/step - loss: 8.6785e-04 - accuracy: 1.0000 - val_loss: 0.2664 - val_accuracy: 0.9660\n",
            "Epoch 36/250\n",
            "45/45 [==============================] - 1s 19ms/step - loss: 7.4706e-04 - accuracy: 1.0000 - val_loss: 0.2491 - val_accuracy: 0.9653\n",
            "Epoch 37/250\n",
            "45/45 [==============================] - 1s 19ms/step - loss: 0.0013 - accuracy: 0.9995 - val_loss: 0.2853 - val_accuracy: 0.9646\n",
            "Epoch 38/250\n",
            "45/45 [==============================] - 1s 19ms/step - loss: 0.0086 - accuracy: 0.9984 - val_loss: 0.2587 - val_accuracy: 0.9680\n",
            "Epoch 39/250\n",
            "45/45 [==============================] - 1s 19ms/step - loss: 0.0058 - accuracy: 0.9984 - val_loss: 0.2444 - val_accuracy: 0.9700\n",
            "Epoch 40/250\n",
            "45/45 [==============================] - 1s 19ms/step - loss: 0.0029 - accuracy: 0.9998 - val_loss: 0.2091 - val_accuracy: 0.9687\n",
            "Epoch 41/250\n",
            "45/45 [==============================] - 1s 19ms/step - loss: 0.0013 - accuracy: 1.0000 - val_loss: 0.2342 - val_accuracy: 0.9687\n",
            "Epoch 42/250\n",
            "45/45 [==============================] - 1s 19ms/step - loss: 0.0014 - accuracy: 0.9995 - val_loss: 0.2564 - val_accuracy: 0.9673\n",
            "Epoch 43/250\n",
            "45/45 [==============================] - 1s 19ms/step - loss: 0.0014 - accuracy: 0.9993 - val_loss: 0.3157 - val_accuracy: 0.9626\n",
            "Epoch 44/250\n",
            "45/45 [==============================] - 1s 19ms/step - loss: 0.0024 - accuracy: 0.9995 - val_loss: 0.2384 - val_accuracy: 0.9673\n",
            "Epoch 45/250\n",
            "45/45 [==============================] - 1s 19ms/step - loss: 0.0648 - accuracy: 0.9823 - val_loss: 0.2636 - val_accuracy: 0.9598\n",
            "Epoch 46/250\n",
            "45/45 [==============================] - 1s 19ms/step - loss: 0.0408 - accuracy: 0.9898 - val_loss: 0.2197 - val_accuracy: 0.9605\n",
            "Epoch 47/250\n",
            "45/45 [==============================] - 1s 19ms/step - loss: 0.0076 - accuracy: 0.9980 - val_loss: 0.1986 - val_accuracy: 0.9660\n",
            "Epoch 48/250\n",
            "45/45 [==============================] - 1s 19ms/step - loss: 0.0144 - accuracy: 0.9977 - val_loss: 0.1560 - val_accuracy: 0.9694\n",
            "Epoch 49/250\n",
            "45/45 [==============================] - 1s 19ms/step - loss: 0.0153 - accuracy: 0.9955 - val_loss: 0.2276 - val_accuracy: 0.9660\n",
            "Epoch 50/250\n",
            "45/45 [==============================] - 1s 19ms/step - loss: 0.0043 - accuracy: 0.9993 - val_loss: 0.2076 - val_accuracy: 0.9694\n",
            "Epoch 51/250\n",
            "45/45 [==============================] - 1s 19ms/step - loss: 0.0018 - accuracy: 0.9998 - val_loss: 0.2265 - val_accuracy: 0.9673\n",
            "Epoch 52/250\n",
            "45/45 [==============================] - 1s 19ms/step - loss: 0.0015 - accuracy: 0.9998 - val_loss: 0.2070 - val_accuracy: 0.9707\n",
            "Epoch 53/250\n",
            "45/45 [==============================] - 1s 19ms/step - loss: 0.0024 - accuracy: 0.9993 - val_loss: 0.2279 - val_accuracy: 0.9680\n",
            "Epoch 54/250\n",
            "45/45 [==============================] - 1s 19ms/step - loss: 8.7614e-04 - accuracy: 1.0000 - val_loss: 0.2471 - val_accuracy: 0.9660\n",
            "Epoch 55/250\n",
            "45/45 [==============================] - 1s 19ms/step - loss: 0.0015 - accuracy: 0.9995 - val_loss: 0.2341 - val_accuracy: 0.9666\n",
            "Epoch 56/250\n",
            "45/45 [==============================] - 1s 19ms/step - loss: 5.6473e-04 - accuracy: 1.0000 - val_loss: 0.2487 - val_accuracy: 0.9666\n",
            "Epoch 57/250\n",
            "45/45 [==============================] - 1s 19ms/step - loss: 5.3831e-04 - accuracy: 1.0000 - val_loss: 0.2558 - val_accuracy: 0.9660\n",
            "Epoch 58/250\n",
            "45/45 [==============================] - 1s 19ms/step - loss: 4.3269e-04 - accuracy: 1.0000 - val_loss: 0.2548 - val_accuracy: 0.9673\n",
            "Epoch 59/250\n",
            "45/45 [==============================] - 1s 19ms/step - loss: 5.2451e-04 - accuracy: 1.0000 - val_loss: 0.2361 - val_accuracy: 0.9694\n",
            "Epoch 60/250\n",
            "45/45 [==============================] - 1s 19ms/step - loss: 0.0025 - accuracy: 0.9991 - val_loss: 0.3008 - val_accuracy: 0.9653\n",
            "Epoch 61/250\n",
            "45/45 [==============================] - 1s 19ms/step - loss: 0.0040 - accuracy: 0.9995 - val_loss: 0.2060 - val_accuracy: 0.9687\n",
            "Epoch 62/250\n",
            "45/45 [==============================] - 1s 19ms/step - loss: 0.0033 - accuracy: 0.9991 - val_loss: 0.2174 - val_accuracy: 0.9694\n",
            "Epoch 63/250\n",
            "45/45 [==============================] - 1s 19ms/step - loss: 8.2264e-04 - accuracy: 1.0000 - val_loss: 0.2510 - val_accuracy: 0.9680\n",
            "Epoch 64/250\n",
            "45/45 [==============================] - 1s 20ms/step - loss: 2.7816e-04 - accuracy: 1.0000 - val_loss: 0.2727 - val_accuracy: 0.9660\n",
            "Epoch 65/250\n",
            "45/45 [==============================] - 1s 19ms/step - loss: 4.9639e-04 - accuracy: 1.0000 - val_loss: 0.2768 - val_accuracy: 0.9666\n",
            "Epoch 66/250\n",
            "45/45 [==============================] - 1s 19ms/step - loss: 2.1156e-04 - accuracy: 1.0000 - val_loss: 0.2858 - val_accuracy: 0.9653\n",
            "Epoch 67/250\n",
            "45/45 [==============================] - 1s 19ms/step - loss: 2.0001e-04 - accuracy: 1.0000 - val_loss: 0.2849 - val_accuracy: 0.9660\n",
            "Epoch 68/250\n",
            "45/45 [==============================] - 1s 19ms/step - loss: 1.6311e-04 - accuracy: 1.0000 - val_loss: 0.2818 - val_accuracy: 0.9660\n",
            "Epoch 69/250\n",
            "45/45 [==============================] - 1s 19ms/step - loss: 1.8368e-04 - accuracy: 1.0000 - val_loss: 0.2967 - val_accuracy: 0.9653\n",
            "Epoch 70/250\n",
            "45/45 [==============================] - 1s 19ms/step - loss: 1.6408e-04 - accuracy: 1.0000 - val_loss: 0.2783 - val_accuracy: 0.9666\n",
            "Epoch 71/250\n",
            "45/45 [==============================] - 1s 20ms/step - loss: 1.4123e-04 - accuracy: 1.0000 - val_loss: 0.2895 - val_accuracy: 0.9660\n",
            "Epoch 72/250\n",
            "45/45 [==============================] - 1s 19ms/step - loss: 1.6031e-04 - accuracy: 1.0000 - val_loss: 0.2840 - val_accuracy: 0.9673\n",
            "Epoch 73/250\n",
            "45/45 [==============================] - 1s 19ms/step - loss: 1.2387e-04 - accuracy: 1.0000 - val_loss: 0.2953 - val_accuracy: 0.9660\n",
            "Epoch 74/250\n",
            "45/45 [==============================] - 1s 19ms/step - loss: 1.1953e-04 - accuracy: 1.0000 - val_loss: 0.2890 - val_accuracy: 0.9680\n",
            "Epoch 75/250\n",
            "45/45 [==============================] - 1s 19ms/step - loss: 1.1103e-04 - accuracy: 1.0000 - val_loss: 0.2938 - val_accuracy: 0.9660\n",
            "Epoch 76/250\n",
            "45/45 [==============================] - 1s 19ms/step - loss: 1.0648e-04 - accuracy: 1.0000 - val_loss: 0.2898 - val_accuracy: 0.9673\n",
            "Epoch 77/250\n",
            "45/45 [==============================] - 1s 19ms/step - loss: 1.0915e-04 - accuracy: 1.0000 - val_loss: 0.2936 - val_accuracy: 0.9673\n",
            "Epoch 78/250\n",
            "45/45 [==============================] - 1s 19ms/step - loss: 4.1268e-04 - accuracy: 1.0000 - val_loss: 0.3137 - val_accuracy: 0.9673\n",
            "Epoch 79/250\n",
            "45/45 [==============================] - 1s 19ms/step - loss: 0.0021 - accuracy: 0.9995 - val_loss: 0.5032 - val_accuracy: 0.9551\n",
            "Epoch 80/250\n",
            "45/45 [==============================] - 1s 19ms/step - loss: 0.0085 - accuracy: 0.9982 - val_loss: 0.1931 - val_accuracy: 0.9687\n",
            "Epoch 81/250\n",
            "45/45 [==============================] - 1s 19ms/step - loss: 0.0095 - accuracy: 0.9977 - val_loss: 0.3312 - val_accuracy: 0.9619\n",
            "Epoch 82/250\n",
            "45/45 [==============================] - 1s 19ms/step - loss: 0.0066 - accuracy: 0.9984 - val_loss: 0.2576 - val_accuracy: 0.9646\n",
            "Epoch 83/250\n",
            "45/45 [==============================] - 1s 19ms/step - loss: 0.0108 - accuracy: 0.9975 - val_loss: 0.2772 - val_accuracy: 0.9646\n",
            "Epoch 84/250\n",
            "45/45 [==============================] - 1s 19ms/step - loss: 0.0013 - accuracy: 0.9998 - val_loss: 0.2488 - val_accuracy: 0.9687\n",
            "Epoch 85/250\n",
            "45/45 [==============================] - 1s 19ms/step - loss: 5.0926e-04 - accuracy: 1.0000 - val_loss: 0.2248 - val_accuracy: 0.9735\n",
            "Epoch 86/250\n",
            "45/45 [==============================] - 1s 19ms/step - loss: 0.0018 - accuracy: 0.9998 - val_loss: 0.2195 - val_accuracy: 0.9714\n",
            "Epoch 87/250\n",
            "45/45 [==============================] - 1s 19ms/step - loss: 0.0269 - accuracy: 0.9968 - val_loss: 0.2021 - val_accuracy: 0.9660\n",
            "Epoch 88/250\n",
            "45/45 [==============================] - 1s 19ms/step - loss: 0.0356 - accuracy: 0.9936 - val_loss: 0.1952 - val_accuracy: 0.9707\n",
            "Epoch 89/250\n",
            "45/45 [==============================] - 1s 19ms/step - loss: 0.0096 - accuracy: 0.9984 - val_loss: 0.1937 - val_accuracy: 0.9735\n",
            "Epoch 90/250\n",
            "45/45 [==============================] - 1s 19ms/step - loss: 0.0076 - accuracy: 0.9986 - val_loss: 0.2616 - val_accuracy: 0.9660\n",
            "Epoch 91/250\n",
            "45/45 [==============================] - 1s 19ms/step - loss: 0.0048 - accuracy: 0.9984 - val_loss: 0.2169 - val_accuracy: 0.9694\n",
            "Epoch 92/250\n",
            "45/45 [==============================] - 1s 19ms/step - loss: 7.2139e-04 - accuracy: 1.0000 - val_loss: 0.2058 - val_accuracy: 0.9707\n",
            "Epoch 93/250\n",
            "45/45 [==============================] - 1s 19ms/step - loss: 0.0010 - accuracy: 0.9995 - val_loss: 0.2261 - val_accuracy: 0.9707\n",
            "Epoch 94/250\n",
            "45/45 [==============================] - 1s 19ms/step - loss: 0.0037 - accuracy: 0.9995 - val_loss: 0.1714 - val_accuracy: 0.9735\n",
            "Epoch 95/250\n",
            "45/45 [==============================] - 1s 19ms/step - loss: 0.0128 - accuracy: 0.9984 - val_loss: 0.2419 - val_accuracy: 0.9694\n",
            "Epoch 96/250\n",
            "45/45 [==============================] - 1s 20ms/step - loss: 0.0043 - accuracy: 0.9989 - val_loss: 0.2270 - val_accuracy: 0.9694\n",
            "Epoch 97/250\n",
            "45/45 [==============================] - 1s 19ms/step - loss: 4.7256e-04 - accuracy: 1.0000 - val_loss: 0.2650 - val_accuracy: 0.9700\n",
            "Epoch 98/250\n",
            "45/45 [==============================] - 1s 19ms/step - loss: 2.3122e-04 - accuracy: 1.0000 - val_loss: 0.2667 - val_accuracy: 0.9694\n",
            "Epoch 99/250\n",
            "45/45 [==============================] - 1s 19ms/step - loss: 2.1455e-04 - accuracy: 1.0000 - val_loss: 0.2616 - val_accuracy: 0.9700\n",
            "Epoch 100/250\n",
            "45/45 [==============================] - 1s 20ms/step - loss: 4.1538e-04 - accuracy: 1.0000 - val_loss: 0.2090 - val_accuracy: 0.9762\n",
            "Epoch 101/250\n",
            "45/45 [==============================] - 1s 19ms/step - loss: 1.6274e-04 - accuracy: 1.0000 - val_loss: 0.2334 - val_accuracy: 0.9721\n",
            "Epoch 102/250\n",
            "45/45 [==============================] - 1s 20ms/step - loss: 6.3676e-04 - accuracy: 0.9998 - val_loss: 0.2324 - val_accuracy: 0.9721\n",
            "Epoch 103/250\n",
            "45/45 [==============================] - 1s 20ms/step - loss: 2.0795e-04 - accuracy: 1.0000 - val_loss: 0.2586 - val_accuracy: 0.9721\n",
            "Epoch 104/250\n",
            "45/45 [==============================] - 1s 20ms/step - loss: 2.0052e-04 - accuracy: 1.0000 - val_loss: 0.2478 - val_accuracy: 0.9714\n",
            "Epoch 105/250\n",
            "45/45 [==============================] - 1s 20ms/step - loss: 1.2266e-04 - accuracy: 1.0000 - val_loss: 0.2506 - val_accuracy: 0.9714\n",
            "Epoch 106/250\n",
            "45/45 [==============================] - 1s 19ms/step - loss: 7.6302e-05 - accuracy: 1.0000 - val_loss: 0.2582 - val_accuracy: 0.9707\n",
            "Epoch 107/250\n",
            "45/45 [==============================] - 1s 20ms/step - loss: 6.3828e-05 - accuracy: 1.0000 - val_loss: 0.2573 - val_accuracy: 0.9707\n",
            "Epoch 108/250\n",
            "45/45 [==============================] - 1s 20ms/step - loss: 6.5450e-05 - accuracy: 1.0000 - val_loss: 0.2519 - val_accuracy: 0.9707\n",
            "Epoch 109/250\n",
            "45/45 [==============================] - 1s 20ms/step - loss: 6.5726e-05 - accuracy: 1.0000 - val_loss: 0.2546 - val_accuracy: 0.9707\n",
            "Epoch 110/250\n",
            "45/45 [==============================] - 1s 19ms/step - loss: 5.7924e-05 - accuracy: 1.0000 - val_loss: 0.2519 - val_accuracy: 0.9714\n",
            "Epoch 111/250\n",
            "45/45 [==============================] - 1s 20ms/step - loss: 4.4478e-05 - accuracy: 1.0000 - val_loss: 0.2560 - val_accuracy: 0.9714\n",
            "Epoch 112/250\n",
            "45/45 [==============================] - 1s 20ms/step - loss: 4.6643e-05 - accuracy: 1.0000 - val_loss: 0.2571 - val_accuracy: 0.9714\n",
            "Epoch 113/250\n",
            "45/45 [==============================] - 1s 20ms/step - loss: 4.3922e-05 - accuracy: 1.0000 - val_loss: 0.2585 - val_accuracy: 0.9700\n",
            "Epoch 114/250\n",
            "45/45 [==============================] - 1s 20ms/step - loss: 4.0510e-05 - accuracy: 1.0000 - val_loss: 0.2614 - val_accuracy: 0.9700\n",
            "Epoch 115/250\n",
            "45/45 [==============================] - 1s 20ms/step - loss: 3.6147e-05 - accuracy: 1.0000 - val_loss: 0.2599 - val_accuracy: 0.9700\n",
            "Epoch 116/250\n",
            "45/45 [==============================] - 1s 20ms/step - loss: 3.6594e-05 - accuracy: 1.0000 - val_loss: 0.2575 - val_accuracy: 0.9700\n",
            "Epoch 117/250\n",
            "45/45 [==============================] - 1s 20ms/step - loss: 4.0378e-05 - accuracy: 1.0000 - val_loss: 0.2590 - val_accuracy: 0.9700\n",
            "Epoch 118/250\n",
            "45/45 [==============================] - 1s 20ms/step - loss: 3.2184e-05 - accuracy: 1.0000 - val_loss: 0.2657 - val_accuracy: 0.9700\n",
            "Epoch 119/250\n",
            "45/45 [==============================] - 1s 19ms/step - loss: 2.9928e-05 - accuracy: 1.0000 - val_loss: 0.2666 - val_accuracy: 0.9700\n",
            "Epoch 120/250\n",
            "45/45 [==============================] - 1s 19ms/step - loss: 3.2025e-05 - accuracy: 1.0000 - val_loss: 0.2645 - val_accuracy: 0.9700\n",
            "Epoch 121/250\n",
            "45/45 [==============================] - 1s 20ms/step - loss: 3.4127e-05 - accuracy: 1.0000 - val_loss: 0.2610 - val_accuracy: 0.9707\n",
            "Epoch 122/250\n",
            "45/45 [==============================] - 1s 20ms/step - loss: 3.0189e-05 - accuracy: 1.0000 - val_loss: 0.2672 - val_accuracy: 0.9700\n",
            "Epoch 123/250\n",
            "45/45 [==============================] - 1s 19ms/step - loss: 2.7279e-05 - accuracy: 1.0000 - val_loss: 0.2669 - val_accuracy: 0.9700\n",
            "Epoch 124/250\n",
            "45/45 [==============================] - 1s 19ms/step - loss: 4.6580e-05 - accuracy: 1.0000 - val_loss: 0.2694 - val_accuracy: 0.9700\n",
            "Epoch 125/250\n",
            "45/45 [==============================] - 1s 20ms/step - loss: 2.6201e-05 - accuracy: 1.0000 - val_loss: 0.2714 - val_accuracy: 0.9700\n",
            "Epoch 126/250\n",
            "45/45 [==============================] - 1s 19ms/step - loss: 2.5817e-05 - accuracy: 1.0000 - val_loss: 0.2772 - val_accuracy: 0.9700\n",
            "Epoch 127/250\n",
            "45/45 [==============================] - 1s 20ms/step - loss: 2.7403e-05 - accuracy: 1.0000 - val_loss: 0.2743 - val_accuracy: 0.9700\n",
            "Epoch 128/250\n",
            "45/45 [==============================] - 1s 20ms/step - loss: 2.4270e-05 - accuracy: 1.0000 - val_loss: 0.2769 - val_accuracy: 0.9700\n",
            "Epoch 129/250\n",
            "45/45 [==============================] - 1s 20ms/step - loss: 2.2386e-05 - accuracy: 1.0000 - val_loss: 0.2762 - val_accuracy: 0.9700\n",
            "Epoch 130/250\n",
            "45/45 [==============================] - 1s 20ms/step - loss: 2.0549e-05 - accuracy: 1.0000 - val_loss: 0.2842 - val_accuracy: 0.9700\n",
            "Epoch 131/250\n",
            "45/45 [==============================] - 1s 20ms/step - loss: 1.7999e-05 - accuracy: 1.0000 - val_loss: 0.2817 - val_accuracy: 0.9700\n",
            "Epoch 132/250\n",
            "45/45 [==============================] - 1s 20ms/step - loss: 1.8738e-05 - accuracy: 1.0000 - val_loss: 0.2830 - val_accuracy: 0.9707\n",
            "Epoch 133/250\n",
            "45/45 [==============================] - 1s 20ms/step - loss: 2.5939e-05 - accuracy: 1.0000 - val_loss: 0.2735 - val_accuracy: 0.9707\n",
            "Epoch 134/250\n",
            "45/45 [==============================] - 1s 20ms/step - loss: 2.1893e-05 - accuracy: 1.0000 - val_loss: 0.2757 - val_accuracy: 0.9707\n",
            "Epoch 135/250\n",
            "45/45 [==============================] - 1s 20ms/step - loss: 1.6071e-05 - accuracy: 1.0000 - val_loss: 0.2841 - val_accuracy: 0.9700\n",
            "Epoch 136/250\n",
            "45/45 [==============================] - 1s 20ms/step - loss: 2.1566e-05 - accuracy: 1.0000 - val_loss: 0.2795 - val_accuracy: 0.9700\n",
            "Epoch 137/250\n",
            "45/45 [==============================] - 1s 20ms/step - loss: 1.8697e-05 - accuracy: 1.0000 - val_loss: 0.2909 - val_accuracy: 0.9707\n",
            "Epoch 138/250\n",
            "45/45 [==============================] - 1s 20ms/step - loss: 1.5225e-05 - accuracy: 1.0000 - val_loss: 0.2902 - val_accuracy: 0.9694\n",
            "Epoch 139/250\n",
            "45/45 [==============================] - 1s 20ms/step - loss: 1.2760e-05 - accuracy: 1.0000 - val_loss: 0.2924 - val_accuracy: 0.9694\n",
            "Epoch 140/250\n",
            "45/45 [==============================] - 1s 20ms/step - loss: 1.5668e-05 - accuracy: 1.0000 - val_loss: 0.2923 - val_accuracy: 0.9694\n",
            "Epoch 141/250\n",
            "45/45 [==============================] - 1s 20ms/step - loss: 1.2472e-05 - accuracy: 1.0000 - val_loss: 0.2910 - val_accuracy: 0.9694\n",
            "Epoch 142/250\n",
            "45/45 [==============================] - 1s 20ms/step - loss: 1.5471e-05 - accuracy: 1.0000 - val_loss: 0.2979 - val_accuracy: 0.9694\n",
            "Epoch 143/250\n",
            "45/45 [==============================] - 1s 20ms/step - loss: 1.5051e-05 - accuracy: 1.0000 - val_loss: 0.2980 - val_accuracy: 0.9694\n",
            "Epoch 144/250\n",
            "45/45 [==============================] - 1s 20ms/step - loss: 1.2965e-05 - accuracy: 1.0000 - val_loss: 0.2958 - val_accuracy: 0.9694\n",
            "Epoch 145/250\n",
            "45/45 [==============================] - 1s 20ms/step - loss: 1.3151e-05 - accuracy: 1.0000 - val_loss: 0.2945 - val_accuracy: 0.9694\n",
            "Epoch 146/250\n",
            "45/45 [==============================] - 1s 20ms/step - loss: 1.4043e-05 - accuracy: 1.0000 - val_loss: 0.2885 - val_accuracy: 0.9700\n",
            "Epoch 147/250\n",
            "45/45 [==============================] - 1s 20ms/step - loss: 1.0424e-05 - accuracy: 1.0000 - val_loss: 0.2982 - val_accuracy: 0.9694\n",
            "Epoch 148/250\n",
            "45/45 [==============================] - 1s 20ms/step - loss: 1.4200e-05 - accuracy: 1.0000 - val_loss: 0.2979 - val_accuracy: 0.9694\n",
            "Epoch 149/250\n",
            "45/45 [==============================] - 1s 20ms/step - loss: 9.6051e-06 - accuracy: 1.0000 - val_loss: 0.3000 - val_accuracy: 0.9694\n",
            "Epoch 150/250\n",
            "45/45 [==============================] - 1s 20ms/step - loss: 9.4281e-06 - accuracy: 1.0000 - val_loss: 0.2996 - val_accuracy: 0.9694\n",
            "Epoch 151/250\n",
            "45/45 [==============================] - 1s 20ms/step - loss: 9.0308e-06 - accuracy: 1.0000 - val_loss: 0.3031 - val_accuracy: 0.9694\n",
            "Epoch 152/250\n",
            "45/45 [==============================] - 1s 20ms/step - loss: 1.2323e-05 - accuracy: 1.0000 - val_loss: 0.3066 - val_accuracy: 0.9694\n",
            "Epoch 153/250\n",
            "45/45 [==============================] - 1s 20ms/step - loss: 1.5819e-05 - accuracy: 1.0000 - val_loss: 0.3001 - val_accuracy: 0.9694\n",
            "Epoch 154/250\n",
            "45/45 [==============================] - 1s 20ms/step - loss: 9.4289e-06 - accuracy: 1.0000 - val_loss: 0.3072 - val_accuracy: 0.9694\n",
            "Epoch 155/250\n",
            "45/45 [==============================] - 1s 20ms/step - loss: 9.8207e-06 - accuracy: 1.0000 - val_loss: 0.3100 - val_accuracy: 0.9694\n",
            "Epoch 156/250\n",
            "45/45 [==============================] - 1s 19ms/step - loss: 1.3690e-05 - accuracy: 1.0000 - val_loss: 0.3088 - val_accuracy: 0.9694\n",
            "Epoch 157/250\n",
            "45/45 [==============================] - 1s 20ms/step - loss: 1.1694e-05 - accuracy: 1.0000 - val_loss: 0.3105 - val_accuracy: 0.9694\n",
            "Epoch 158/250\n",
            "45/45 [==============================] - 1s 20ms/step - loss: 1.5454e-05 - accuracy: 1.0000 - val_loss: 0.3038 - val_accuracy: 0.9694\n",
            "Epoch 159/250\n",
            "45/45 [==============================] - 1s 20ms/step - loss: 1.2723e-05 - accuracy: 1.0000 - val_loss: 0.2893 - val_accuracy: 0.9700\n",
            "Epoch 160/250\n",
            "45/45 [==============================] - 1s 20ms/step - loss: 9.6567e-06 - accuracy: 1.0000 - val_loss: 0.3064 - val_accuracy: 0.9700\n",
            "Epoch 161/250\n",
            "45/45 [==============================] - 1s 20ms/step - loss: 7.1535e-06 - accuracy: 1.0000 - val_loss: 0.3213 - val_accuracy: 0.9680\n",
            "Epoch 162/250\n",
            "45/45 [==============================] - 1s 20ms/step - loss: 6.5732e-06 - accuracy: 1.0000 - val_loss: 0.3120 - val_accuracy: 0.9694\n",
            "Epoch 163/250\n",
            "45/45 [==============================] - 1s 20ms/step - loss: 7.1859e-06 - accuracy: 1.0000 - val_loss: 0.3122 - val_accuracy: 0.9694\n",
            "Epoch 164/250\n",
            "45/45 [==============================] - 1s 20ms/step - loss: 6.6779e-06 - accuracy: 1.0000 - val_loss: 0.3147 - val_accuracy: 0.9694\n",
            "Epoch 165/250\n",
            "45/45 [==============================] - 1s 19ms/step - loss: 8.2190e-06 - accuracy: 1.0000 - val_loss: 0.3019 - val_accuracy: 0.9700\n",
            "Epoch 166/250\n",
            "45/45 [==============================] - 1s 19ms/step - loss: 9.1082e-06 - accuracy: 1.0000 - val_loss: 0.3023 - val_accuracy: 0.9694\n",
            "Epoch 167/250\n",
            "45/45 [==============================] - 1s 20ms/step - loss: 6.4010e-06 - accuracy: 1.0000 - val_loss: 0.3232 - val_accuracy: 0.9700\n",
            "Epoch 168/250\n",
            "45/45 [==============================] - 1s 19ms/step - loss: 5.6986e-06 - accuracy: 1.0000 - val_loss: 0.3208 - val_accuracy: 0.9687\n",
            "Epoch 169/250\n",
            "45/45 [==============================] - 1s 19ms/step - loss: 5.3245e-06 - accuracy: 1.0000 - val_loss: 0.3214 - val_accuracy: 0.9687\n",
            "Epoch 170/250\n",
            "45/45 [==============================] - 1s 19ms/step - loss: 7.6887e-06 - accuracy: 1.0000 - val_loss: 0.3045 - val_accuracy: 0.9694\n",
            "Epoch 171/250\n",
            "45/45 [==============================] - 1s 19ms/step - loss: 7.3185e-06 - accuracy: 1.0000 - val_loss: 0.3116 - val_accuracy: 0.9694\n",
            "Epoch 172/250\n",
            "45/45 [==============================] - 1s 20ms/step - loss: 5.9098e-06 - accuracy: 1.0000 - val_loss: 0.3150 - val_accuracy: 0.9694\n",
            "Epoch 173/250\n",
            "45/45 [==============================] - 1s 19ms/step - loss: 6.5142e-06 - accuracy: 1.0000 - val_loss: 0.3238 - val_accuracy: 0.9687\n",
            "Epoch 174/250\n",
            "45/45 [==============================] - 1s 20ms/step - loss: 5.2217e-06 - accuracy: 1.0000 - val_loss: 0.3244 - val_accuracy: 0.9687\n",
            "Epoch 175/250\n",
            "45/45 [==============================] - 1s 20ms/step - loss: 7.2122e-06 - accuracy: 1.0000 - val_loss: 0.3164 - val_accuracy: 0.9694\n",
            "Epoch 176/250\n",
            "45/45 [==============================] - 1s 19ms/step - loss: 5.8031e-06 - accuracy: 1.0000 - val_loss: 0.3160 - val_accuracy: 0.9694\n",
            "Epoch 177/250\n",
            "45/45 [==============================] - 1s 19ms/step - loss: 5.3682e-06 - accuracy: 1.0000 - val_loss: 0.3201 - val_accuracy: 0.9694\n",
            "Epoch 178/250\n",
            "45/45 [==============================] - 1s 19ms/step - loss: 5.0210e-06 - accuracy: 1.0000 - val_loss: 0.3286 - val_accuracy: 0.9694\n",
            "Epoch 179/250\n",
            "45/45 [==============================] - 1s 19ms/step - loss: 7.9269e-06 - accuracy: 1.0000 - val_loss: 0.3240 - val_accuracy: 0.9694\n",
            "Epoch 180/250\n",
            "45/45 [==============================] - 1s 20ms/step - loss: 4.2966e-06 - accuracy: 1.0000 - val_loss: 0.3352 - val_accuracy: 0.9687\n",
            "Epoch 181/250\n",
            "45/45 [==============================] - 1s 19ms/step - loss: 5.6052e-06 - accuracy: 1.0000 - val_loss: 0.3371 - val_accuracy: 0.9680\n",
            "Epoch 182/250\n",
            "45/45 [==============================] - 1s 20ms/step - loss: 2.0579e-05 - accuracy: 1.0000 - val_loss: 0.2992 - val_accuracy: 0.9707\n",
            "Epoch 183/250\n",
            "45/45 [==============================] - 1s 19ms/step - loss: 5.6522e-06 - accuracy: 1.0000 - val_loss: 0.3294 - val_accuracy: 0.9687\n",
            "Epoch 184/250\n",
            "45/45 [==============================] - 1s 20ms/step - loss: 5.1381e-06 - accuracy: 1.0000 - val_loss: 0.3238 - val_accuracy: 0.9700\n",
            "Epoch 185/250\n",
            "45/45 [==============================] - 1s 19ms/step - loss: 3.6237e-06 - accuracy: 1.0000 - val_loss: 0.3301 - val_accuracy: 0.9700\n",
            "Epoch 186/250\n",
            "45/45 [==============================] - 1s 20ms/step - loss: 3.8703e-06 - accuracy: 1.0000 - val_loss: 0.3308 - val_accuracy: 0.9700\n",
            "Epoch 187/250\n",
            "45/45 [==============================] - 1s 19ms/step - loss: 8.9816e-06 - accuracy: 1.0000 - val_loss: 0.3423 - val_accuracy: 0.9687\n",
            "Epoch 188/250\n",
            "45/45 [==============================] - 1s 20ms/step - loss: 5.8066e-06 - accuracy: 1.0000 - val_loss: 0.3590 - val_accuracy: 0.9660\n",
            "Epoch 189/250\n",
            "45/45 [==============================] - 1s 20ms/step - loss: 4.8558e-06 - accuracy: 1.0000 - val_loss: 0.3557 - val_accuracy: 0.9660\n",
            "Epoch 190/250\n",
            "45/45 [==============================] - 1s 20ms/step - loss: 4.4313e-06 - accuracy: 1.0000 - val_loss: 0.3371 - val_accuracy: 0.9694\n",
            "Epoch 191/250\n",
            "45/45 [==============================] - 1s 19ms/step - loss: 4.8351e-06 - accuracy: 1.0000 - val_loss: 0.3364 - val_accuracy: 0.9694\n",
            "Epoch 192/250\n",
            "45/45 [==============================] - 1s 19ms/step - loss: 8.8188e-06 - accuracy: 1.0000 - val_loss: 0.3849 - val_accuracy: 0.9660\n",
            "Epoch 193/250\n",
            "45/45 [==============================] - 1s 20ms/step - loss: 7.8429e-06 - accuracy: 1.0000 - val_loss: 0.3589 - val_accuracy: 0.9680\n",
            "Epoch 194/250\n",
            "45/45 [==============================] - 1s 20ms/step - loss: 4.1891e-06 - accuracy: 1.0000 - val_loss: 0.3496 - val_accuracy: 0.9673\n",
            "Epoch 195/250\n",
            "45/45 [==============================] - 1s 19ms/step - loss: 3.2327e-06 - accuracy: 1.0000 - val_loss: 0.3504 - val_accuracy: 0.9673\n",
            "Epoch 196/250\n",
            "45/45 [==============================] - 1s 19ms/step - loss: 4.1827e-06 - accuracy: 1.0000 - val_loss: 0.3460 - val_accuracy: 0.9687\n",
            "Epoch 197/250\n",
            "45/45 [==============================] - 1s 19ms/step - loss: 2.6593e-06 - accuracy: 1.0000 - val_loss: 0.3511 - val_accuracy: 0.9680\n",
            "Epoch 198/250\n",
            "45/45 [==============================] - 1s 20ms/step - loss: 8.7365e-06 - accuracy: 1.0000 - val_loss: 0.3321 - val_accuracy: 0.9700\n",
            "Epoch 199/250\n",
            "45/45 [==============================] - 1s 20ms/step - loss: 3.4939e-06 - accuracy: 1.0000 - val_loss: 0.3572 - val_accuracy: 0.9673\n",
            "Epoch 200/250\n",
            "45/45 [==============================] - 1s 20ms/step - loss: 1.9886e-06 - accuracy: 1.0000 - val_loss: 0.3592 - val_accuracy: 0.9673\n",
            "Epoch 201/250\n",
            "45/45 [==============================] - 1s 20ms/step - loss: 5.6233e-06 - accuracy: 1.0000 - val_loss: 0.3318 - val_accuracy: 0.9700\n",
            "Epoch 202/250\n",
            "45/45 [==============================] - 1s 19ms/step - loss: 3.1596e-06 - accuracy: 1.0000 - val_loss: 0.3508 - val_accuracy: 0.9680\n",
            "Epoch 203/250\n",
            "45/45 [==============================] - 1s 20ms/step - loss: 2.4714e-06 - accuracy: 1.0000 - val_loss: 0.3573 - val_accuracy: 0.9680\n",
            "Epoch 204/250\n",
            "45/45 [==============================] - 1s 19ms/step - loss: 3.4747e-06 - accuracy: 1.0000 - val_loss: 0.3496 - val_accuracy: 0.9680\n",
            "Epoch 205/250\n",
            "45/45 [==============================] - 1s 20ms/step - loss: 2.0847e-06 - accuracy: 1.0000 - val_loss: 0.3562 - val_accuracy: 0.9680\n",
            "Epoch 206/250\n",
            "45/45 [==============================] - 1s 19ms/step - loss: 3.1335e-06 - accuracy: 1.0000 - val_loss: 0.3504 - val_accuracy: 0.9687\n",
            "Epoch 207/250\n",
            "45/45 [==============================] - 1s 20ms/step - loss: 3.3402e-06 - accuracy: 1.0000 - val_loss: 0.3360 - val_accuracy: 0.9707\n",
            "Epoch 208/250\n",
            "45/45 [==============================] - 1s 19ms/step - loss: 2.4890e-05 - accuracy: 1.0000 - val_loss: 0.3153 - val_accuracy: 0.9700\n",
            "Epoch 209/250\n",
            "45/45 [==============================] - 1s 19ms/step - loss: 7.3231e-06 - accuracy: 1.0000 - val_loss: 0.3436 - val_accuracy: 0.9687\n",
            "Epoch 210/250\n",
            "45/45 [==============================] - 1s 19ms/step - loss: 2.5412e-06 - accuracy: 1.0000 - val_loss: 0.3533 - val_accuracy: 0.9687\n",
            "Epoch 211/250\n",
            "45/45 [==============================] - 1s 20ms/step - loss: 2.4754e-06 - accuracy: 1.0000 - val_loss: 0.3554 - val_accuracy: 0.9673\n",
            "Epoch 212/250\n",
            "45/45 [==============================] - 1s 19ms/step - loss: 3.6234e-06 - accuracy: 1.0000 - val_loss: 0.3502 - val_accuracy: 0.9680\n",
            "Epoch 213/250\n",
            "45/45 [==============================] - 1s 20ms/step - loss: 3.1029e-06 - accuracy: 1.0000 - val_loss: 0.3585 - val_accuracy: 0.9673\n",
            "Epoch 214/250\n",
            "45/45 [==============================] - 1s 20ms/step - loss: 1.9808e-06 - accuracy: 1.0000 - val_loss: 0.3579 - val_accuracy: 0.9673\n",
            "Epoch 215/250\n",
            "45/45 [==============================] - 1s 19ms/step - loss: 2.0592e-06 - accuracy: 1.0000 - val_loss: 0.3600 - val_accuracy: 0.9673\n",
            "Epoch 216/250\n",
            "45/45 [==============================] - 1s 19ms/step - loss: 3.0465e-06 - accuracy: 1.0000 - val_loss: 0.3618 - val_accuracy: 0.9680\n",
            "Epoch 217/250\n",
            "45/45 [==============================] - 1s 20ms/step - loss: 2.2541e-06 - accuracy: 1.0000 - val_loss: 0.3628 - val_accuracy: 0.9680\n",
            "Epoch 218/250\n",
            "45/45 [==============================] - 1s 20ms/step - loss: 2.5264e-06 - accuracy: 1.0000 - val_loss: 0.3644 - val_accuracy: 0.9680\n",
            "Epoch 219/250\n",
            "45/45 [==============================] - 1s 20ms/step - loss: 2.7199e-06 - accuracy: 1.0000 - val_loss: 0.3612 - val_accuracy: 0.9687\n",
            "Epoch 220/250\n",
            "45/45 [==============================] - 1s 19ms/step - loss: 4.8213e-06 - accuracy: 1.0000 - val_loss: 0.3775 - val_accuracy: 0.9666\n",
            "Epoch 221/250\n",
            "45/45 [==============================] - 1s 20ms/step - loss: 2.5109e-06 - accuracy: 1.0000 - val_loss: 0.3585 - val_accuracy: 0.9700\n",
            "Epoch 222/250\n",
            "45/45 [==============================] - 1s 20ms/step - loss: 1.1849e-06 - accuracy: 1.0000 - val_loss: 0.3709 - val_accuracy: 0.9680\n",
            "Epoch 223/250\n",
            "45/45 [==============================] - 1s 20ms/step - loss: 3.9611e-06 - accuracy: 1.0000 - val_loss: 0.4649 - val_accuracy: 0.9653\n",
            "Epoch 224/250\n",
            "45/45 [==============================] - 1s 20ms/step - loss: 0.0501 - accuracy: 0.9911 - val_loss: 0.3209 - val_accuracy: 0.9632\n",
            "Epoch 225/250\n",
            "45/45 [==============================] - 1s 19ms/step - loss: 0.0640 - accuracy: 0.9887 - val_loss: 0.2263 - val_accuracy: 0.9673\n",
            "Epoch 226/250\n",
            "45/45 [==============================] - 1s 19ms/step - loss: 0.0324 - accuracy: 0.9927 - val_loss: 0.3239 - val_accuracy: 0.9523\n",
            "Epoch 227/250\n",
            "45/45 [==============================] - 1s 19ms/step - loss: 0.0202 - accuracy: 0.9959 - val_loss: 0.3717 - val_accuracy: 0.9544\n",
            "Epoch 228/250\n",
            "45/45 [==============================] - 1s 20ms/step - loss: 0.0068 - accuracy: 0.9991 - val_loss: 0.2314 - val_accuracy: 0.9707\n",
            "Epoch 229/250\n",
            "45/45 [==============================] - 1s 19ms/step - loss: 0.0277 - accuracy: 0.9936 - val_loss: 0.3316 - val_accuracy: 0.9612\n",
            "Epoch 230/250\n",
            "45/45 [==============================] - 1s 19ms/step - loss: 0.0054 - accuracy: 0.9989 - val_loss: 0.2679 - val_accuracy: 0.9680\n",
            "Epoch 231/250\n",
            "45/45 [==============================] - 1s 20ms/step - loss: 0.0019 - accuracy: 0.9998 - val_loss: 0.2899 - val_accuracy: 0.9694\n",
            "Epoch 232/250\n",
            "45/45 [==============================] - 1s 20ms/step - loss: 0.0131 - accuracy: 0.9989 - val_loss: 0.3079 - val_accuracy: 0.9660\n",
            "Epoch 233/250\n",
            "45/45 [==============================] - 1s 20ms/step - loss: 9.9134e-04 - accuracy: 0.9998 - val_loss: 0.2726 - val_accuracy: 0.9707\n",
            "Epoch 234/250\n",
            "45/45 [==============================] - 1s 20ms/step - loss: 5.6787e-04 - accuracy: 1.0000 - val_loss: 0.2745 - val_accuracy: 0.9700\n",
            "Epoch 235/250\n",
            "45/45 [==============================] - 1s 20ms/step - loss: 3.1954e-04 - accuracy: 1.0000 - val_loss: 0.2811 - val_accuracy: 0.9714\n",
            "Epoch 236/250\n",
            "45/45 [==============================] - 1s 20ms/step - loss: 2.4139e-04 - accuracy: 1.0000 - val_loss: 0.2934 - val_accuracy: 0.9707\n",
            "Epoch 237/250\n",
            "45/45 [==============================] - 1s 20ms/step - loss: 1.1066e-04 - accuracy: 1.0000 - val_loss: 0.2970 - val_accuracy: 0.9707\n",
            "Epoch 238/250\n",
            "45/45 [==============================] - 1s 20ms/step - loss: 2.4241e-04 - accuracy: 1.0000 - val_loss: 0.3022 - val_accuracy: 0.9707\n",
            "Epoch 239/250\n",
            "45/45 [==============================] - 1s 20ms/step - loss: 1.2227e-04 - accuracy: 1.0000 - val_loss: 0.2793 - val_accuracy: 0.9707\n",
            "Epoch 240/250\n",
            "45/45 [==============================] - 1s 19ms/step - loss: 2.8223e-04 - accuracy: 1.0000 - val_loss: 0.2768 - val_accuracy: 0.9728\n",
            "Epoch 241/250\n",
            "45/45 [==============================] - 1s 20ms/step - loss: 1.0532e-04 - accuracy: 1.0000 - val_loss: 0.2887 - val_accuracy: 0.9721\n",
            "Epoch 242/250\n",
            "45/45 [==============================] - 1s 19ms/step - loss: 6.8078e-05 - accuracy: 1.0000 - val_loss: 0.2865 - val_accuracy: 0.9721\n",
            "Epoch 243/250\n",
            "45/45 [==============================] - 1s 20ms/step - loss: 6.5610e-05 - accuracy: 1.0000 - val_loss: 0.3012 - val_accuracy: 0.9714\n",
            "Epoch 244/250\n",
            "45/45 [==============================] - 1s 20ms/step - loss: 2.5980e-04 - accuracy: 1.0000 - val_loss: 0.5088 - val_accuracy: 0.9571\n",
            "Epoch 245/250\n",
            "45/45 [==============================] - 1s 20ms/step - loss: 0.0019 - accuracy: 0.9991 - val_loss: 0.3529 - val_accuracy: 0.9660\n",
            "Epoch 246/250\n",
            "45/45 [==============================] - 1s 20ms/step - loss: 3.5225e-04 - accuracy: 1.0000 - val_loss: 0.2775 - val_accuracy: 0.9673\n",
            "Epoch 247/250\n",
            "45/45 [==============================] - 1s 20ms/step - loss: 4.0382e-04 - accuracy: 1.0000 - val_loss: 0.2897 - val_accuracy: 0.9714\n",
            "Epoch 248/250\n",
            "45/45 [==============================] - 1s 19ms/step - loss: 2.0403e-04 - accuracy: 1.0000 - val_loss: 0.3003 - val_accuracy: 0.9714\n",
            "Epoch 249/250\n",
            "45/45 [==============================] - 1s 19ms/step - loss: 8.3803e-05 - accuracy: 1.0000 - val_loss: 0.3040 - val_accuracy: 0.9714\n",
            "Epoch 250/250\n",
            "45/45 [==============================] - 1s 19ms/step - loss: 1.2943e-04 - accuracy: 1.0000 - val_loss: 0.2687 - val_accuracy: 0.9741\n"
          ]
        }
      ]
    },
    {
      "cell_type": "code",
      "metadata": {
        "id": "TBn01mJhfWR9"
      },
      "source": [
        "model.save('hck_v.h5')"
      ],
      "execution_count": null,
      "outputs": []
    },
    {
      "cell_type": "code",
      "metadata": {
        "id": "4TVeus8MVvjP"
      },
      "source": [
        "model.save_weights('hck_w')"
      ],
      "execution_count": null,
      "outputs": []
    },
    {
      "cell_type": "code",
      "metadata": {
        "colab": {
          "base_uri": "https://localhost:8080/"
        },
        "id": "EJ48iOHbWq98",
        "outputId": "973dbea1-b52a-41d8-e8e0-7de0b0e492eb"
      },
      "source": [
        "history.history.keys()"
      ],
      "execution_count": null,
      "outputs": [
        {
          "output_type": "execute_result",
          "data": {
            "text/plain": [
              "dict_keys(['loss', 'accuracy', 'val_loss', 'val_accuracy'])"
            ]
          },
          "metadata": {},
          "execution_count": 14
        }
      ]
    },
    {
      "cell_type": "code",
      "metadata": {
        "colab": {
          "base_uri": "https://localhost:8080/",
          "height": 313
        },
        "id": "XKe9sWz5WzUo",
        "outputId": "2e8007e8-6e2d-4d3a-bff3-75f24133a00e"
      },
      "source": [
        "#loss\n",
        "plt.plot(history.history['loss'],'r',label='training data')\n",
        "plt.plot(history.history['val_loss'],label='validation data')\n",
        "plt.title('loss of model')\n",
        "plt.xlabel('epochs')\n",
        "plt.ylabel('loss')\n",
        "plt.legend()"
      ],
      "execution_count": null,
      "outputs": [
        {
          "output_type": "execute_result",
          "data": {
            "text/plain": [
              "<matplotlib.legend.Legend at 0x7f38880844d0>"
            ]
          },
          "metadata": {},
          "execution_count": 15
        },
        {
          "output_type": "display_data",
          "data": {
            "image/png": "[encoded data removed]",
            "text/plain": [
              "<Figure size 432x288 with 1 Axes>"
            ]
          },
          "metadata": {
            "needs_background": "light"
          }
        }
      ]
    },
    {
      "cell_type": "code",
      "metadata": {
        "colab": {
          "base_uri": "https://localhost:8080/",
          "height": 313
        },
        "id": "_d2EQ7_waWBr",
        "outputId": "e00f931a-86ad-4097-e857-c09a31468a29"
      },
      "source": [
        "plt.plot(history.history['accuracy'],'r',label='training data')\n",
        "plt.plot(history.history['val_accuracy'],label='validation data')\n",
        "plt.title('accuracy of model')\n",
        "plt.xlabel('epochs')\n",
        "plt.ylabel('accuracy of model')\n",
        "plt.legend()"
      ],
      "execution_count": null,
      "outputs": [
        {
          "output_type": "execute_result",
          "data": {
            "text/plain": [
              "<matplotlib.legend.Legend at 0x7f38777cd850>"
            ]
          },
          "metadata": {},
          "execution_count": 16
        },
        {
          "output_type": "display_data",
          "data": {
            "image/png": "[encoded data removed]",
            "text/plain": [
              "<Figure size 432x288 with 1 Axes>"
            ]
          },
          "metadata": {
            "needs_background": "light"
          }
        }
      ]
    },
    {
      "cell_type": "code",
      "metadata": {
        "colab": {
          "base_uri": "https://localhost:8080/"
        },
        "id": "Zv7JP6-1cY3y",
        "outputId": "2f2aea58-07fc-4457-c779-775aa2f56616"
      },
      "source": [
        "print(model.evaluate(X_test,y_test))"
      ],
      "execution_count": null,
      "outputs": [
        {
          "output_type": "stream",
          "name": "stdout",
          "text": [
            "46/46 [==============================] - 0s 4ms/step - loss: 0.2687 - accuracy: 0.9741\n",
            "[0.2686746120452881, 0.9741320610046387]\n"
          ]
        }
      ]
    },
    {
      "cell_type": "code",
      "metadata": {
        "id": "P1OgSGQc9PG9"
      },
      "source": [
        "tar_data=[]\n",
        "pp=path+'test/test'\n",
        "for img in os.listdir(pp):\n",
        "  img_path=os.path.join(pp,img)\n",
        "  image=load_img(img_path)\n",
        "  image=img_to_array(image)\n",
        "  tar_data.append(image)\n",
        "\n"
      ],
      "execution_count": null,
      "outputs": []
    },
    {
      "cell_type": "code",
      "metadata": {
        "id": "DtRZRzS_9PJ0"
      },
      "source": [
        "tar_data=np.array(tar_data)/255.0"
      ],
      "execution_count": null,
      "outputs": []
    },
    {
      "cell_type": "code",
      "metadata": {
        "id": "vL-EFFf8zS8w"
      },
      "source": [
        "ans=[]\n",
        "for i in range (len(tar_data)):\n",
        "  y_pred=model.predict(tar_data[i].reshape(1,64,64,3))\n",
        "  ans.append(y_pred.argmax())"
      ],
      "execution_count": null,
      "outputs": []
    },
    {
      "cell_type": "code",
      "metadata": {
        "id": "6UPPvUsQND96"
      },
      "source": [
        "pp=path+'op_pics/'\n",
        "for i in range (len(tar_data)):\n",
        "  y_pred=model.predict(tar_data[i].reshape(1,64,64,3))\n",
        "  if y_pred.argmax()==1:\n",
        "    to_save_1=tar_data[i]\n",
        "    np.save('1.jpg',to_save_1)\n",
        "  if y_pred.argmax()==0:\n",
        "    to_save_0=tar_data[i]\n",
        "    np.save('0.jpg',to_save_0)\n",
        "\n",
        "\n"
      ],
      "execution_count": null,
      "outputs": []
    },
    {
      "cell_type": "code",
      "metadata": {
        "colab": {
          "base_uri": "https://localhost:8080/"
        },
        "id": "akLRR1X7Qx1T",
        "outputId": "1f9af07a-4ff3-4b8f-e547-db984cc871fd"
      },
      "source": [
        "x=np.array(ans)\n",
        "t=np.unique(ans)\n",
        "print(t)"
      ],
      "execution_count": null,
      "outputs": [
        {
          "output_type": "stream",
          "name": "stdout",
          "text": [
            "[0 1]\n"
          ]
        }
      ]
    },
    {
      "cell_type": "code",
      "metadata": {
        "colab": {
          "base_uri": "https://localhost:8080/"
        },
        "id": "6COscWz7eMvS",
        "outputId": "7253930a-2bde-4c32-b78e-6f0454c39af8"
      },
      "source": [
        "te=model.predict(tar_data[45].reshape(1,64,64,3))\n",
        "print(te.argmax())"
      ],
      "execution_count": null,
      "outputs": [
        {
          "output_type": "stream",
          "name": "stdout",
          "text": [
            "1\n"
          ]
        }
      ]
    },
    {
      "cell_type": "code",
      "metadata": {
        "colab": {
          "base_uri": "https://localhost:8080/",
          "height": 285
        },
        "id": "d9AW1HIjOy4_",
        "outputId": "9b016830-3ada-44e4-ad51-ddb788429c9a"
      },
      "source": [
        "plt.imshow(tar_data[45])"
      ],
      "execution_count": null,
      "outputs": [
        {
          "output_type": "execute_result",
          "data": {
            "text/plain": [
              "<matplotlib.image.AxesImage at 0x7f38770db750>"
            ]
          },
          "metadata": {},
          "execution_count": 26
        },
        {
          "output_type": "display_data",
          "data": {
            "image/png": "[encoded data removed]",
            "text/plain": [
              "<Figure size 432x288 with 1 Axes>"
            ]
          },
          "metadata": {
            "needs_background": "light"
          }
        }
      ]
    },
    {
      "cell_type": "code",
      "metadata": {
        "id": "5PcPVTCMlpJy"
      },
      "source": [
        "import random\n",
        "import json\n",
        "# from utils.io import write_json\n",
        "\n",
        "def write_json(filename, result):\n",
        "    with open(filename, 'w') as outfile:\n",
        "        json.dump(result, outfile)\n",
        "\n",
        "\n",
        "def generate_sample_file(filename):\n",
        "    res = {}\n",
        "    for i in range(len(tar_data)):\n",
        "        y_pred=model.predict(tar_data[i].reshape(1,64,64,3))\n",
        "        if y_pred.argmax()==1:\n",
        "          test_set = str(i)+'_'+str(1) + '.jpg'\n",
        "          res[test_set] = 3\n",
        "        if y_pred.argmax()==0:\n",
        "          test_set = str(i)+'_'+str(0) + '.jpg'\n",
        "          res[test_set] = 3\n",
        "\n",
        "\n",
        "    write_json(filename, res)\n",
        "\n",
        "if __name__ == '__main__':\n",
        "    generate_sample_file('./result.json')\n",
        "\n"
      ],
      "execution_count": null,
      "outputs": []
    },
    {
      "cell_type": "code",
      "metadata": {
        "colab": {
          "base_uri": "https://localhost:8080/",
          "height": 17
        },
        "id": "pQYijVG_lprM",
        "outputId": "aa6d8871-9b88-4987-8bb2-a64bc2870be6"
      },
      "source": [
        "from google.colab import files\n",
        "files.download('result.json')"
      ],
      "execution_count": null,
      "outputs": [
        {
          "output_type": "display_data",
          "data": {
            "application/javascript": [
              "\n",
              "    async function download(id, filename, size) {\n",
              "      if (!google.colab.kernel.accessAllowed) {\n",
              "        return;\n",
              "      }\n",
              "      const div = document.createElement('div');\n",
              "      const label = document.createElement('label');\n",
              "      label.textContent = `Downloading \"${filename}\": `;\n",
              "      div.appendChild(label);\n",
              "      const progress = document.createElement('progress');\n",
              "      progress.max = size;\n",
              "      div.appendChild(progress);\n",
              "      document.body.appendChild(div);\n",
              "\n",
              "      const buffers = [];\n",
              "      let downloaded = 0;\n",
              "\n",
              "      const channel = await google.colab.kernel.comms.open(id);\n",
              "      // Send a message to notify the kernel that we're ready.\n",
              "      channel.send({})\n",
              "\n",
              "      for await (const message of channel.messages) {\n",
              "        // Send a message to notify the kernel that we're ready.\n",
              "        channel.send({})\n",
              "        if (message.buffers) {\n",
              "          for (const buffer of message.buffers) {\n",
              "            buffers.push(buffer);\n",
              "            downloaded += buffer.byteLength;\n",
              "            progress.value = downloaded;\n",
              "          }\n",
              "        }\n",
              "      }\n",
              "      const blob = new Blob(buffers, {type: 'application/binary'});\n",
              "      const a = document.createElement('a');\n",
              "      a.href = window.URL.createObjectURL(blob);\n",
              "      a.download = filename;\n",
              "      div.appendChild(a);\n",
              "      a.click();\n",
              "      div.remove();\n",
              "    }\n",
              "  "
            ],
            "text/plain": [
              "<IPython.core.display.Javascript object>"
            ]
          },
          "metadata": {}
        },
        {
          "output_type": "display_data",
          "data": {
            "application/javascript": [
              "download(\"download_edd6f552-489c-4aa4-b10f-7f8a2a12e1c5\", \"result.json\", 1460)"
            ],
            "text/plain": [
              "<IPython.core.display.Javascript object>"
            ]
          },
          "metadata": {}
        }
      ]
    },
    {
      "cell_type": "code",
      "metadata": {
        "id": "nLu8UIQ8lptp"
      },
      "source": [
        ""
      ],
      "execution_count": null,
      "outputs": []
    },
    {
      "cell_type": "code",
      "metadata": {
        "id": "eoFTRrI3lpxY"
      },
      "source": [
        ""
      ],
      "execution_count": null,
      "outputs": []
    }
  ]
}