{
  "nbformat": 4,
  "nbformat_minor": 0,
  "metadata": {
    "colab": {
      "name": "Hindi Character Classification Preprocessing.ipynb",
      "provenance": [],
      "machine_shape": "hm"
    },
    "kernelspec": {
      "name": "python3",
      "display_name": "Python 3"
    },
    "language_info": {
      "name": "python"
    },
    "accelerator": "GPU"
  },
  "cells": [
    {
      "cell_type": "code",
      "metadata": {
        "id": "gn43AYrZO44C",
        "colab": {
          "base_uri": "https://localhost:8080/"
        },
        "outputId": "05bc351c-fa39-4125-a541-90fba823a1b3"
      },
      "source": [
        "from google.colab import drive\n",
        "drive.mount('/content/drive')"
      ],
      "execution_count": null,
      "outputs": [
        {
          "output_type": "stream",
          "name": "stdout",
          "text": [
            "Mounted at /content/drive\n"
          ]
        }
      ]
    },
    {
      "cell_type": "code",
      "metadata": {
        "colab": {
          "base_uri": "https://localhost:8080/",
          "height": 35
        },
        "id": "68gHRv9v_Cjw",
        "outputId": "b46229a5-ac56-4e82-ec1d-0bac9fbc277f"
      },
      "source": [
        "%tensorflow_version 2.x\n",
        "import tensorflow\n",
        "tensorflow.__version__"
      ],
      "execution_count": null,
      "outputs": [
        {
          "output_type": "execute_result",
          "data": {
            "application/vnd.google.colaboratory.intrinsic+json": {
              "type": "string"
            },
            "text/plain": [
              "'2.6.0'"
            ]
          },
          "metadata": {},
          "execution_count": 2
        }
      ]
    },
    {
      "cell_type": "code",
      "metadata": {
        "id": "oH8PuJUc7nYl"
      },
      "source": [
        "from tensorflow.keras.preprocessing.image import img_to_array,load_img\n",
        "from sklearn.preprocessing import LabelEncoder\n",
        "from keras.utils import np_utils\n",
        "import matplotlib.pyplot as plt\n",
        "import pandas as pd\n",
        "import numpy as np\n",
        "import cv2\n",
        "import os\n",
        "\n"
      ],
      "execution_count": null,
      "outputs": []
    },
    {
      "cell_type": "code",
      "metadata": {
        "id": "eZlQQmPk_CzB"
      },
      "source": [
        "path='/content/drive/My Drive/Hackathons/training'"
      ],
      "execution_count": null,
      "outputs": []
    },
    {
      "cell_type": "code",
      "metadata": {
        "id": "9ljZOQo1_DEb"
      },
      "source": [
        "categories=os.listdir(path)"
      ],
      "execution_count": null,
      "outputs": []
    },
    {
      "cell_type": "code",
      "metadata": {
        "colab": {
          "base_uri": "https://localhost:8080/"
        },
        "id": "C1qMTUz9MCZQ",
        "outputId": "c663b31c-7de3-4c65-db9a-ea86a9e92e2e"
      },
      "source": [
        "print(categories)"
      ],
      "execution_count": null,
      "outputs": [
        {
          "output_type": "stream",
          "name": "stdout",
          "text": [
            "['hi', 'background']\n"
          ]
        }
      ]
    },
    {
      "cell_type": "code",
      "metadata": {
        "id": "h_I7BOHD19IW"
      },
      "source": [
        "data=[]\n",
        "labels=[]"
      ],
      "execution_count": null,
      "outputs": []
    },
    {
      "cell_type": "code",
      "metadata": {
        "id": "4GWeKb4k2Vdn"
      },
      "source": [
        "for category in categories:\n",
        "  tst=os.path.join(path,category)\n",
        "  for imge in os.listdir(tst):\n",
        "    img_path=os.path.join(tst,imge)\n",
        "    img=load_img(img_path)\n",
        "    img=img_to_array(img)\n",
        "\n",
        "    data.append(img)\n",
        "    labels.append(category)"
      ],
      "execution_count": null,
      "outputs": []
    },
    {
      "cell_type": "code",
      "metadata": {
        "id": "xE64v15n8drH"
      },
      "source": [
        "data=np.array(data)/255.0\n"
      ],
      "execution_count": null,
      "outputs": []
    },
    {
      "cell_type": "code",
      "metadata": {
        "id": "-wKvA-7f19Tx"
      },
      "source": [
        "lb=LabelEncoder()\n",
        "labels=lb.fit_transform(labels)"
      ],
      "execution_count": null,
      "outputs": []
    },
    {
      "cell_type": "code",
      "metadata": {
        "id": "7HnYRQbZaqxe"
      },
      "source": [
        "util_lb=np_utils.to_categorical(labels)"
      ],
      "execution_count": null,
      "outputs": []
    },
    {
      "cell_type": "code",
      "metadata": {
        "colab": {
          "base_uri": "https://localhost:8080/"
        },
        "id": "2A-J83D5btOe",
        "outputId": "9719fe31-8179-4465-f685-a10af89af7ac"
      },
      "source": [
        "x=np.unique(util_lb)\n",
        "print(x)"
      ],
      "execution_count": null,
      "outputs": [
        {
          "output_type": "stream",
          "name": "stdout",
          "text": [
            "[0. 1.]\n"
          ]
        }
      ]
    },
    {
      "cell_type": "code",
      "metadata": {
        "colab": {
          "base_uri": "https://localhost:8080/"
        },
        "id": "NRL5j5dDcKZk",
        "outputId": "2bce52ce-edc2-435e-8825-372b9c833165"
      },
      "source": [
        "util_lb.shape"
      ],
      "execution_count": null,
      "outputs": [
        {
          "output_type": "execute_result",
          "data": {
            "text/plain": [
              "(5875, 2)"
            ]
          },
          "metadata": {},
          "execution_count": 17
        }
      ]
    },
    {
      "cell_type": "code",
      "metadata": {
        "colab": {
          "base_uri": "https://localhost:8080/"
        },
        "id": "8iq9eFCxb_mB",
        "outputId": "d4b384b9-55ea-4234-faa7-c334019f883c"
      },
      "source": [
        "util_lb[5000]"
      ],
      "execution_count": null,
      "outputs": [
        {
          "output_type": "execute_result",
          "data": {
            "text/plain": [
              "array([1., 0.], dtype=float32)"
            ]
          },
          "metadata": {},
          "execution_count": 18
        }
      ]
    },
    {
      "cell_type": "code",
      "metadata": {
        "id": "TOF67GE1ygzz"
      },
      "source": [
        "np.save('ulable',util_lb)"
      ],
      "execution_count": null,
      "outputs": []
    },
    {
      "cell_type": "code",
      "metadata": {
        "id": "kSsCn9GkTRmE"
      },
      "source": [
        "np.save('data',data)"
      ],
      "execution_count": null,
      "outputs": []
    }
  ]
}